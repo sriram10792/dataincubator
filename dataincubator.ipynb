{
 "cells": [
  {
   "cell_type": "code",
   "execution_count": 2,
   "metadata": {},
   "outputs": [
    {
     "name": "stdout",
     "output_type": "stream",
     "text": [
      "H:\\USF summer 2018\\Data incubator\n"
     ]
    }
   ],
   "source": [
    "cd H:\\\\USF summer 2018\\\\Data incubator"
   ]
  },
  {
   "cell_type": "code",
   "execution_count": 1,
   "metadata": {
    "collapsed": true
   },
   "outputs": [],
   "source": [
    "import numpy as np\n",
    "import pandas as pd"
   ]
  },
  {
   "cell_type": "code",
   "execution_count": 80,
   "metadata": {},
   "outputs": [],
   "source": [
    "df = pd.read_excel('ccrb_datatransparencyinitiative_20170207.xlsx', sheetname='Complaints_Allegations')\n",
    "\n",
    "df.columns = ['date', 'id','closeyear','receivedyear','borough','investigationfull','video','complaintmode','complaintplace','complaintallegations','incidentlocation','incidentyear','outcome','reassoncontact','allegationfado','description']\n",
    "\n"
   ]
  },
  {
   "cell_type": "markdown",
   "metadata": {},
   "source": [
    "# Question 1A"
   ]
  },
  {
   "cell_type": "code",
   "execution_count": 23,
   "metadata": {},
   "outputs": [
    {
     "data": {
      "text/plain": [
       "70245"
      ]
     },
     "execution_count": 23,
     "metadata": {},
     "output_type": "execute_result"
    }
   ],
   "source": [
    "uniqueid=df.id.unique()\n",
    "len(uniqueid)"
   ]
  },
  {
   "cell_type": "markdown",
   "metadata": {},
   "source": [
    "# Question 1b"
   ]
  },
  {
   "cell_type": "code",
   "execution_count": 66,
   "metadata": {},
   "outputs": [],
   "source": [
    "\n",
    "#Remove NA and others\n",
    "df2=df[df.borough.str.contains(\"NA\") == False]\n",
    "df2=df2[df2.incidentlocation.str.contains(\"NA\") == False]\n",
    "df2=df2[df2.complaintplace.str.contains(\"Other\") == False]\n",
    "df2=df2[df2.outcome.str.contains(\"Other/NA\") == False]\n",
    "df2=df2[df2.reassoncontact.str.contains(\"NA\") == False]\n",
    "df2=df2[df2.reassoncontact.str.contains(\"Other\") == False]\n",
    "df2=df2[df2.allegationfado.str.contains(\"NA\") == False]\n",
    "df2=df2[df2.description.str.contains(\"NA\") == False]\n",
    "df2=df2[df2.description.str.contains(\"Other\") == False]\n",
    "\n",
    "#Drop NA\n",
    "df2=df2.dropna()\n",
    "\n",
    "#Drop duplicated\n",
    "df2=df2.drop_duplicates(subset='id', keep=\"last\")\n",
    "\n",
    "\n",
    "\n"
   ]
  },
  {
   "cell_type": "code",
   "execution_count": 67,
   "metadata": {},
   "outputs": [
    {
     "name": "stdout",
     "output_type": "stream",
     "text": [
      "0    Brooklyn\n",
      "dtype: object\n",
      "0.3442181122199871\n"
     ]
    }
   ],
   "source": [
    "totalrows=len(df2)\n",
    "max_borough=df2.borough.mode()\n",
    "print(max_borough)\n",
    "\n",
    "brook=df2[df2.borough.str.contains(\"Brooklyn\")]\n",
    "brook_count=len(brook)\n",
    "\n",
    "proportion=brook_count/totalrows\n",
    "print(proportion)"
   ]
  },
  {
   "cell_type": "markdown",
   "metadata": {},
   "source": [
    "# Question 3"
   ]
  },
  {
   "cell_type": "code",
   "execution_count": 68,
   "metadata": {},
   "outputs": [
    {
     "data": {
      "text/plain": [
       "51203"
      ]
     },
     "execution_count": 68,
     "metadata": {},
     "output_type": "execute_result"
    }
   ],
   "source": [
    "len(df2)"
   ]
  },
  {
   "cell_type": "code",
   "execution_count": 69,
   "metadata": {},
   "outputs": [
    {
     "name": "stdout",
     "output_type": "stream",
     "text": [
      "0    Brooklyn\n",
      "dtype: object\n",
      "17625\n",
      "665.4029359276435\n"
     ]
    }
   ],
   "source": [
    "#drop outside NY\n",
    "\n",
    "df3=df2[df2.borough.str.contains(\"Outside NYC\") == False]\n",
    "\n",
    "maximum_borough=df3.borough.mode()\n",
    "print(maximum_borough)\n",
    "\n",
    "pop=2648771\n",
    "\n",
    "brook2=df2[df2.borough.str.contains(\"Brooklyn\")]\n",
    "print(len(brook2))\n",
    "\n",
    "complaintsper100k=(len(brook2)/pop)*100000\n",
    "print(complaintsper100k)"
   ]
  },
  {
   "cell_type": "markdown",
   "metadata": {},
   "source": [
    "# Question4"
   ]
  },
  {
   "cell_type": "code",
   "execution_count": 70,
   "metadata": {
    "collapsed": true
   },
   "outputs": [],
   "source": [
    "df4=df2.copy()\n",
    "\n",
    "df4['time']=df['closeyear']-df['receivedyear']"
   ]
  },
  {
   "cell_type": "code",
   "execution_count": 71,
   "metadata": {},
   "outputs": [
    {
     "data": {
      "text/plain": [
       "0.48602620940179286"
      ]
     },
     "execution_count": 71,
     "metadata": {},
     "output_type": "execute_result"
    }
   ],
   "source": [
    "df4.time.mean()"
   ]
  },
  {
   "cell_type": "markdown",
   "metadata": {},
   "source": [
    "# Question 5"
   ]
  },
  {
   "cell_type": "code",
   "execution_count": 72,
   "metadata": {},
   "outputs": [
    {
     "data": {
      "text/plain": [
       "51203"
      ]
     },
     "execution_count": 72,
     "metadata": {},
     "output_type": "execute_result"
    }
   ],
   "source": [
    "len(df2)"
   ]
  },
  {
   "cell_type": "code",
   "execution_count": 74,
   "metadata": {
    "collapsed": true
   },
   "outputs": [],
   "source": [
    "df5=df2.dropna"
   ]
  },
  {
   "cell_type": "code",
   "execution_count": 82,
   "metadata": {},
   "outputs": [],
   "source": [
    "df5=df.copy()\n",
    "\n",
    "#Drop NA\n",
    "df5=df5.dropna()\n",
    "\n",
    "\n",
    "#Remove NA and others\n",
    "df5=df5[df5.borough.str.contains(\"NA\") == False]\n",
    "df5=df5[df5.incidentlocation.str.contains(\"NA\") == False]\n",
    "df5=df5[df5.complaintplace.str.contains(\"Other\") == False]\n",
    "df5=df5[df5.outcome.str.contains(\"Other/NA\") == False]\n",
    "df5=df5[df5.reassoncontact.str.contains(\"NA\") == False]\n",
    "df5=df5[df5.reassoncontact.str.contains(\"Other\") == False]\n",
    "df5=df5[df5.allegationfado.str.contains(\"NA\") == False]\n",
    "df5=df5[df5.description.str.contains(\"NA\") == False]\n",
    "df5=df5[df5.description.str.contains(\"Other\") == False]\n",
    "\n",
    "\n",
    "\n",
    "#Drop duplicated\n",
    "df5=df5.drop_duplicates(subset='id', keep=\"last\")"
   ]
  },
  {
   "cell_type": "code",
   "execution_count": 89,
   "metadata": {},
   "outputs": [],
   "source": [
    "df5['complaintallegations']=df5['complaintallegations'].astype(str)"
   ]
  },
  {
   "cell_type": "code",
   "execution_count": 109,
   "metadata": {},
   "outputs": [],
   "source": [
    "df6=df5[df5.complaintallegations.str.contains(\"False\") == False]"
   ]
  },
  {
   "cell_type": "code",
   "execution_count": null,
   "metadata": {
    "collapsed": true
   },
   "outputs": [],
   "source": [
    "from sklearn import datasets, linear_model\n",
    "from sklearn.linear_model import LinearRegression\n",
    "\n",
    "df6['']"
   ]
  },
  {
   "cell_type": "markdown",
   "metadata": {},
   "source": [
    "# Question 2"
   ]
  },
  {
   "cell_type": "code",
   "execution_count": 142,
   "metadata": {},
   "outputs": [
    {
     "ename": "TypeError",
     "evalue": "'list' object cannot be interpreted as an integer",
     "output_type": "error",
     "traceback": [
      "\u001b[1;31m---------------------------------------------------------------------------\u001b[0m",
      "\u001b[1;31mTypeError\u001b[0m                                 Traceback (most recent call last)",
      "\u001b[1;32m<ipython-input-142-32be539a2454>\u001b[0m in \u001b[0;36m<module>\u001b[1;34m()\u001b[0m\n\u001b[0;32m     53\u001b[0m         \u001b[1;32mreturn\u001b[0m\u001b[1;33m(\u001b[0m\u001b[0mtotal_length\u001b[0m\u001b[1;33m)\u001b[0m\u001b[1;33m\u001b[0m\u001b[0m\n\u001b[0;32m     54\u001b[0m \u001b[1;33m\u001b[0m\u001b[0m\n\u001b[1;32m---> 55\u001b[1;33m     \u001b[0mlength\u001b[0m\u001b[1;33m(\u001b[0m\u001b[0ms\u001b[0m\u001b[1;33m)\u001b[0m\u001b[1;33m\u001b[0m\u001b[0m\n\u001b[0m",
      "\u001b[1;32m<ipython-input-142-32be539a2454>\u001b[0m in \u001b[0;36mlength\u001b[1;34m(s)\u001b[0m\n\u001b[0;32m     30\u001b[0m             \u001b[0mlist3\u001b[0m\u001b[1;33m=\u001b[0m\u001b[0mlist\u001b[0m\u001b[1;33m(\u001b[0m\u001b[0mrange\u001b[0m\u001b[1;33m(\u001b[0m\u001b[0ma\u001b[0m\u001b[1;33m+\u001b[0m\u001b[1;36m1\u001b[0m\u001b[1;33m,\u001b[0m\u001b[0ms\u001b[0m\u001b[1;33m)\u001b[0m\u001b[1;33m)\u001b[0m\u001b[1;33m\u001b[0m\u001b[0m\n\u001b[0;32m     31\u001b[0m \u001b[1;33m\u001b[0m\u001b[0m\n\u001b[1;32m---> 32\u001b[1;33m         \u001b[0mlena\u001b[0m\u001b[1;33m=\u001b[0m\u001b[0mlen\u001b[0m\u001b[1;33m(\u001b[0m\u001b[0mlist1\u001b[0m\u001b[1;33m)\u001b[0m\u001b[1;33m\u001b[0m\u001b[0m\n\u001b[0m\u001b[0;32m     33\u001b[0m         \u001b[0mlenb\u001b[0m\u001b[1;33m=\u001b[0m\u001b[0mlen\u001b[0m\u001b[1;33m(\u001b[0m\u001b[0mlist2\u001b[0m\u001b[1;33m)\u001b[0m\u001b[1;33m\u001b[0m\u001b[0m\n\u001b[0;32m     34\u001b[0m         \u001b[0mlenc\u001b[0m\u001b[1;33m=\u001b[0m\u001b[0mlen\u001b[0m\u001b[1;33m(\u001b[0m\u001b[0mlist3\u001b[0m\u001b[1;33m)\u001b[0m\u001b[1;33m\u001b[0m\u001b[0m\n",
      "\u001b[1;32m<ipython-input-138-cfaa880a5405>\u001b[0m in \u001b[0;36mlen\u001b[1;34m(s)\u001b[0m\n\u001b[0;32m      9\u001b[0m     \u001b[1;32mdef\u001b[0m \u001b[0mlen\u001b[0m\u001b[1;33m(\u001b[0m\u001b[0ms\u001b[0m\u001b[1;33m)\u001b[0m\u001b[1;33m:\u001b[0m\u001b[1;33m\u001b[0m\u001b[0m\n\u001b[0;32m     10\u001b[0m \u001b[1;33m\u001b[0m\u001b[0m\n\u001b[1;32m---> 11\u001b[1;33m         \u001b[0mtotal\u001b[0m\u001b[1;33m=\u001b[0m\u001b[0mlist\u001b[0m\u001b[1;33m(\u001b[0m\u001b[0mrange\u001b[0m\u001b[1;33m(\u001b[0m\u001b[1;36m1\u001b[0m\u001b[1;33m,\u001b[0m\u001b[0ms\u001b[0m\u001b[1;33m)\u001b[0m\u001b[1;33m)\u001b[0m\u001b[1;33m\u001b[0m\u001b[0m\n\u001b[0m\u001b[0;32m     12\u001b[0m \u001b[1;33m\u001b[0m\u001b[0m\n\u001b[0;32m     13\u001b[0m         \u001b[0mlist_of_random_items\u001b[0m \u001b[1;33m=\u001b[0m \u001b[0mrandom\u001b[0m\u001b[1;33m.\u001b[0m\u001b[0msample\u001b[0m\u001b[1;33m(\u001b[0m\u001b[0mtotal\u001b[0m\u001b[1;33m,\u001b[0m \u001b[1;36m2\u001b[0m\u001b[1;33m)\u001b[0m\u001b[1;33m\u001b[0m\u001b[0m\n",
      "\u001b[1;31mTypeError\u001b[0m: 'list' object cannot be interpreted as an integer"
     ]
    }
   ],
   "source": [
    "s=65\n",
    "t=5\n",
    "\n",
    "import random\n",
    "\n",
    "\n",
    "\n",
    "for i in range(t):\n",
    "    \n",
    "    def length(s):\n",
    "    \n",
    "        total=list(range(1,s))\n",
    "\n",
    "        list_of_random_items = random.sample(total, 2)\n",
    "        a= list_of_random_items[0]\n",
    "        b = list_of_random_items[1] \n",
    "        if a<b:\n",
    "            list1=list(range(1,a+1))\n",
    "            #print(list1)\n",
    "        \n",
    "            list2=list(range(a+1,b+1))\n",
    "            #print(list2)\n",
    "        \n",
    "            list3=list(range(b+1,s))\n",
    "            #print(list3)\n",
    "        \n",
    "        else:\n",
    "            list1=list(range(1,b+1))\n",
    "            list2=list(range(b+1,a+1))\n",
    "            list3=list(range(a+1,s))\n",
    "        \n",
    "        lena=len(list1)\n",
    "        lenb=len(list2)\n",
    "        lenc=len(list3)\n",
    "        \n",
    "        if max(lena,lenb,lenc) is lena:\n",
    "            print(lena)\n",
    "            #print(\"a\")\n",
    "            s=lena\n",
    "            length(s)\n",
    "            \n",
    "        elif max(lena,lenb,lenc) is lenb:\n",
    "            print(lenb)\n",
    "            #print(\"b\")\n",
    "            s=lenb\n",
    "            length(s)\n",
    "        else:\n",
    "            print(lenc)\n",
    "            #print(\"c\")\n",
    "            s=lenc\n",
    "            length(s)\n",
    "            \n",
    "        return(total_length)\n",
    "\n",
    "    length(s)    "
   ]
  },
  {
   "cell_type": "code",
   "execution_count": null,
   "metadata": {
    "collapsed": true
   },
   "outputs": [],
   "source": []
  }
 ],
 "metadata": {
  "kernelspec": {
   "display_name": "Python 3",
   "language": "python",
   "name": "python3"
  },
  "language_info": {
   "codemirror_mode": {
    "name": "ipython",
    "version": 3
   },
   "file_extension": ".py",
   "mimetype": "text/x-python",
   "name": "python",
   "nbconvert_exporter": "python",
   "pygments_lexer": "ipython3",
   "version": "3.6.5"
  }
 },
 "nbformat": 4,
 "nbformat_minor": 2
}
